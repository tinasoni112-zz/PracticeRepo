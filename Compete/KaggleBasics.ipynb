{
  "nbformat": 4,
  "nbformat_minor": 0,
  "metadata": {
    "colab": {
      "name": "Untitled1.ipynb",
      "provenance": [],
      "authorship_tag": "ABX9TyNmfOH2tohbL00aT+Ts8Yvh",
      "include_colab_link": true
    },
    "kernelspec": {
      "name": "python3",
      "display_name": "Python 3"
    },
    "language_info": {
      "name": "python"
    }
  },
  "cells": [
    {
      "cell_type": "markdown",
      "metadata": {
        "id": "view-in-github",
        "colab_type": "text"
      },
      "source": [
        "<a href=\"https://colab.research.google.com/github/tinasoni112/PracticeRepo/blob/Kaggle/Compete/KaggleBasics.ipynb\" target=\"_parent\"><img src=\"https://colab.research.google.com/assets/colab-badge.svg\" alt=\"Open In Colab\"/></a>"
      ]
    },
    {
      "cell_type": "code",
      "metadata": {
        "id": "WP2JNjQF3BR0",
        "colab": {
          "base_uri": "https://localhost:8080/"
        },
        "outputId": "713810d8-4b17-494b-98a2-677dfa604cd5"
      },
      "source": [
        "print(\"hello\")"
      ],
      "execution_count": null,
      "outputs": [
        {
          "output_type": "stream",
          "text": [
            "hello\n"
          ],
          "name": "stdout"
        }
      ]
    },
    {
      "cell_type": "code",
      "metadata": {
        "id": "PsDgJxJcJQrI"
      },
      "source": [
        "import os\n",
        "from subprocess import getoutput\n",
        "getoutput(\"git clone -l -s -b Kaggle https://github.com/tinasoni112/PracticeRepo.git cloned-repo\")\n",
        "os.chdir('cloned-repo')"
      ],
      "execution_count": 1,
      "outputs": []
    }
  ]
}